{
 "cells": [
  {
   "cell_type": "code",
   "execution_count": 15,
   "id": "1e2d55a8-53d6-4043-82b3-e40683a7d525",
   "metadata": {},
   "outputs": [],
   "source": [
    "import numpy as np\n",
    "import networkx as nx\n",
    "from utils import *"
   ]
  },
  {
   "cell_type": "code",
   "execution_count": 13,
   "id": "3aa591f8-0918-45cc-8997-34b5005b38ca",
   "metadata": {},
   "outputs": [],
   "source": [
    "edge_list1 = np.array([[0, 1], [0, 3], [1, 2], [2, 3], [2, 4], [4, 5], [4, 7], [5, 6], [6, 7]])\n",
    "G1 = nx.Graph()\n",
    "G1.add_nodes_from(np.arange(7))\n",
    "G1.add_edges_from(edge_list1)\n",
    "edge_list2 = np.array([[0, 1], [1, 3], [0, 2], [2, 3], [2, 4], [4, 5], [4, 7], [5, 6], [6, 7]])\n",
    "G2 = nx.Graph()\n",
    "G2.add_nodes_from(np.arange(7))\n",
    "G2.add_edges_from(edge_list2)"
   ]
  },
  {
   "cell_type": "code",
   "execution_count": 27,
   "id": "b30b689e-8e65-4753-b19b-f5f0505b3ff2",
   "metadata": {},
   "outputs": [
    {
     "name": "stderr",
     "output_type": "stream",
     "text": [
      "Computing RWR scores: 100%|███████████████████████████████████████████████████████████████████████████████████████████████████████████████████████████| 2/2 [00:00<00:00, 140.61it/s]\n",
      "Computing RWR scores: 100%|███████████████████████████████████████████████████████████████████████████████████████████████████████████████████████████| 2/2 [00:00<00:00, 402.64it/s]\n"
     ]
    }
   ],
   "source": [
    "anchors1 = np.array([1, 3])\n",
    "anchors2 = np.array([1, 3])\n",
    "rwr1 = rwr_score(G1, anchors1)\n",
    "rwr2 = rwr_score(G2, anchors2)\n",
    "rwr1 = rwr1 / np.linalg.norm(rwr1, axis=1, keepdims=True)\n",
    "rwr2 = rwr2 / np.linalg.norm(rwr2, axis=1, keepdims=True)"
   ]
  },
  {
   "cell_type": "code",
   "execution_count": 33,
   "id": "3cb7002d-72ff-4d8b-88db-5201f6436fb0",
   "metadata": {},
   "outputs": [
    {
     "data": {
      "text/plain": [
       "('1.0000000000000000', '0.9999999403953552')"
      ]
     },
     "execution_count": 33,
     "metadata": {},
     "output_type": "execute_result"
    }
   ],
   "source": [
    "intra_c1 = rwr1 @ rwr1.T\n",
    "intra_c2 = rwr2 @ rwr2.T\n",
    "f\"{intra_c1[2, 4]:.16f}\", f\"{intra_c2[2, 4]:.16f}\""
   ]
  },
  {
   "cell_type": "code",
   "execution_count": 30,
   "id": "06fe3e05-b3e9-4916-a842-15c7a3fd57ed",
   "metadata": {},
   "outputs": [
    {
     "data": {
      "text/plain": [
       "array([[0.70710677, 0.70710677],\n",
       "       [0.90567994, 0.42396203],\n",
       "       [0.70710677, 0.70710677],\n",
       "       [0.42396203, 0.90567994],\n",
       "       [0.7071068 , 0.7071068 ],\n",
       "       [0.70710677, 0.70710677],\n",
       "       [0.70710677, 0.70710677],\n",
       "       [0.70710677, 0.70710677]], dtype=float32)"
      ]
     },
     "execution_count": 30,
     "metadata": {},
     "output_type": "execute_result"
    }
   ],
   "source": [
    "rwr1"
   ]
  },
  {
   "cell_type": "code",
   "execution_count": null,
   "id": "ec455d66-22f5-46aa-bbe6-a17a6feb10c2",
   "metadata": {},
   "outputs": [],
   "source": [
    "v2_1 = np.array([1, 1])\n",
    "v4_1 = np.array([2, 2])\n",
    "v2_2 = np.array([2, 1])\n",
    "v4_1 = np.array([3, 2])"
   ]
  },
  {
   "cell_type": "code",
   "execution_count": null,
   "id": "e4b91d94-375d-473b-9d7f-578e56a76e51",
   "metadata": {},
   "outputs": [],
   "source": []
  },
  {
   "cell_type": "code",
   "execution_count": null,
   "id": "b84cf1ac-a55c-4580-8e7c-0800733aa279",
   "metadata": {},
   "outputs": [],
   "source": []
  }
 ],
 "metadata": {
  "kernelspec": {
   "display_name": "Python 3 (ipykernel)",
   "language": "python",
   "name": "python3"
  },
  "language_info": {
   "codemirror_mode": {
    "name": "ipython",
    "version": 3
   },
   "file_extension": ".py",
   "mimetype": "text/x-python",
   "name": "python",
   "nbconvert_exporter": "python",
   "pygments_lexer": "ipython3",
   "version": "3.9.6"
  }
 },
 "nbformat": 4,
 "nbformat_minor": 5
}
