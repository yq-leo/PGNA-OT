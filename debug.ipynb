{
 "cells": [
  {
   "cell_type": "code",
   "execution_count": 1,
   "id": "abca1475-766c-4eba-9c69-2a11a4ffdc5f",
   "metadata": {},
   "outputs": [],
   "source": [
    "import os.path\n",
    "\n",
    "from torch.utils.tensorboard import SummaryWriter\n",
    "from torch.optim.lr_scheduler import CosineAnnealingLR\n",
    "from collections import defaultdict\n",
    "import time\n",
    "import matplotlib.pyplot as plt\n",
    "\n",
    "from args import *\n",
    "from utils import *\n",
    "from model import *"
   ]
  },
  {
   "cell_type": "code",
   "execution_count": 2,
   "id": "d9b38a33-a7f7-4f93-a620-3e5fba7b0275",
   "metadata": {},
   "outputs": [],
   "source": [
    "class Args:\n",
    "    def __init__(self):\n",
    "        self.dataset = 'phone-email'\n",
    "        self.ratio = 0.2\n",
    "        self.use_attr = False\n",
    "        self.device = 'cpu'\n",
    "        self.model = 'BRIGHT'\n",
    "        self.num_layers = 1\n",
    "        self.hidden_dim = 128\n",
    "        self.out_dim = 128\n",
    "        self.lambda_w = 1\n",
    "        self.lambda_edge = 0\n",
    "        self.lambda_total = 1e-2\n",
    "        self.in_iter = 5\n",
    "        self.out_iter = 10\n",
    "        self.lr = 1e-3\n",
    "        self.epochs = 50"
   ]
  },
  {
   "cell_type": "code",
   "execution_count": 3,
   "id": "afcf532f-3843-448b-9738-8cfe3435cd75",
   "metadata": {},
   "outputs": [
    {
     "name": "stdout",
     "output_type": "stream",
     "text": [
      "Loading data... Done\n",
      "Loading RWR scores from datasets/rwr/rwr_emb_phone-email_0.2.npz... Done\n"
     ]
    }
   ],
   "source": [
    "args = Args()\n",
    "# check compatibility between dataset and use_attr\n",
    "if args.dataset == 'noisy-cora1-cora2':\n",
    "    assert args.use_attr is True, 'noisy-cora1-cora2 requires using node attributes'\n",
    "elif args.dataset == 'foursquare-twitter' or args.dataset == 'phone-email':\n",
    "    assert args.use_attr is False, f'{args.dataset} does not have node attributes'\n",
    "\n",
    "# load data and build networkx graphs\n",
    "np_dtype = np.float64\n",
    "torch_dtype = torch.float64\n",
    "print(\"Loading data...\", end=\" \")\n",
    "edge_index1, edge_index2, x1, x2, anchor_links, test_pairs = load_data(f\"datasets/{args.dataset}\", args.ratio,\n",
    "                                                                       args.use_attr, dtype=np_dtype)\n",
    "anchor1, anchor2 = anchor_links[:, 0], anchor_links[:, 1]\n",
    "G1, G2 = build_nx_graph(edge_index1, anchor1, x1), build_nx_graph(edge_index2, anchor2, x2)\n",
    "print(\"Done\")\n",
    "\n",
    "rwr1, rwr2 = get_rwr_matrix(G1, G2, anchor_links, args.dataset, args.ratio, dtype=np_dtype)\n",
    "if x1 is None:\n",
    "    x1 = rwr1\n",
    "if x2 is None:\n",
    "    x2 = rwr2\n",
    "\n",
    "# device setting\n",
    "assert torch.cuda.is_available() or args.device == 'cpu', 'CUDA is not available'\n",
    "device = torch.device(args.device)\n",
    "torch.set_default_dtype(torch.float64)\n",
    "\n",
    "# build PyG Data objects\n",
    "G1_tg = build_tg_graph(edge_index1, x1, rwr1, dtype=torch_dtype).to(device)\n",
    "G2_tg = build_tg_graph(edge_index2, x2, rwr2, dtype=torch_dtype).to(device)\n",
    "\n",
    "# model setting\n",
    "input_dim = G1_tg.x.shape[1]\n",
    "hidden_dim = args.hidden_dim\n",
    "output_dim = args.out_dim"
   ]
  },
  {
   "cell_type": "code",
   "execution_count": 48,
   "id": "26660c46-53ce-4e23-8646-97c947ef5bb0",
   "metadata": {},
   "outputs": [],
   "source": [
    "model = BRIGHT(input_dim=input_dim, hidden_dim=output_dim, output_dim=output_dim).to(device)\n",
    "if args.model == 'PGNA':\n",
    "    model = PGNA(input_dim=input_dim,\n",
    "                 feature_dim=output_dim,\n",
    "                 anchor_dim=anchor_links.shape[0],\n",
    "                 hidden_dim=output_dim,\n",
    "                 output_dim=output_dim,\n",
    "                 num_layers=args.num_layers).to(device)\n",
    "elif args.model == 'RWRNet':\n",
    "    model = RWRNet(num_layers=args.num_layers,\n",
    "                   input_dim=input_dim,\n",
    "                   output_dim=output_dim).to(device)\n",
    "optimizer = torch.optim.Adam(model.parameters(), lr=args.lr)\n",
    "criterion = FusedGWLoss(G1_tg, G2_tg, anchor1, anchor2,\n",
    "                        lambda_w=args.lambda_w,\n",
    "                        lambda_edge=args.lambda_edge,\n",
    "                        lambda_total=args.lambda_total,\n",
    "                        in_iter=args.in_iter,\n",
    "                        out_iter=args.out_iter).to(device)\n",
    "scheduler = CosineAnnealingLR(optimizer, T_max=args.epochs)\n",
    "epoch = 0"
   ]
  },
  {
   "cell_type": "code",
   "execution_count": 66,
   "id": "f357ddcc-a378-4fb2-9318-9cba5806e781",
   "metadata": {},
   "outputs": [
    {
     "name": "stdout",
     "output_type": "stream",
     "text": [
      "tensor([[  0, 631, 888,  ..., 854, 212,  99],\n",
      "        [  1, 705, 162,  ..., 854,  99,   0],\n",
      "        [296, 877, 718,  ..., 669, 396, 854],\n",
      "        ...,\n",
      "        [997, 682, 550,  ..., 575, 854, 340],\n",
      "        [296, 877, 718,  ..., 396, 854,   0],\n",
      "        [503, 999,  17,  ...,   0, 396, 854]])\n",
      "tensor([[  0,   1, 529,  ..., 889, 889, 889],\n",
      "        [383, 970, 408,  ..., 555, 555, 555],\n",
      "        [290, 155, 998,  ..., 206, 206, 206],\n",
      "        ...,\n",
      "        [ 99, 898, 471,  ..., 863, 863, 863],\n",
      "        [952, 952,   0,  ..., 898, 898, 898],\n",
      "        [589,   0, 898,  ...,   0,   0,   0]])\n"
     ]
    }
   ],
   "source": [
    "r1 = G1_tg.rwr / torch.linalg.norm(G1_tg.rwr, ord=2, dim=1, keepdim=True)\n",
    "r2 = G2_tg.rwr / torch.linalg.norm(G2_tg.rwr, ord=2, dim=1, keepdim=True)\n",
    "crossC = torch.exp(-r1 @ r2.T)\n",
    "rank_cross_row = torch.argsort(crossC, dim=1)\n",
    "rank_cross_col = torch.argsort(crossC, dim=0)\n",
    "print(rank_cross_row)\n",
    "print(rank_cross_col)"
   ]
  },
  {
   "cell_type": "code",
   "execution_count": 73,
   "id": "7a0a0ed2-3846-49f1-96e8-50ea5fce9470",
   "metadata": {},
   "outputs": [
    {
     "data": {
      "text/plain": [
       "tensor(0.3882)"
      ]
     },
     "execution_count": 73,
     "metadata": {},
     "output_type": "execute_result"
    }
   ],
   "source": [
    "crossC[2, 296]"
   ]
  },
  {
   "cell_type": "code",
   "execution_count": 76,
   "id": "e5b1beff-597b-468c-962a-7263e8899359",
   "metadata": {},
   "outputs": [
    {
     "data": {
      "text/plain": [
       "tensor([770, 296, 432, 264, 551, 511, 365, 657, 868, 690, 614, 830, 701, 184,\n",
       "        363, 160, 904, 531, 265, 877, 998,  53, 334, 875, 719, 441, 292, 408,\n",
       "        438, 765, 321, 588, 594, 718, 476, 306, 404, 391, 293, 454, 843, 498,\n",
       "        165, 981, 101, 895, 798, 529, 364, 344, 458, 776, 564, 505, 274, 163,\n",
       "        254, 672, 161, 145, 126, 235, 837, 647, 516, 452, 945, 766,   2, 959,\n",
       "        947, 103, 418, 297, 587, 357, 788, 372, 991, 302, 668, 106, 942, 862,\n",
       "        420, 562, 156, 827, 320, 202, 799, 939, 601, 650, 567, 805, 999,  88,\n",
       "         26, 737])"
      ]
     },
     "execution_count": 76,
     "metadata": {},
     "output_type": "execute_result"
    }
   ],
   "source": [
    "rank_cross_col[:100, 296]"
   ]
  },
  {
   "cell_type": "code",
   "execution_count": 78,
   "id": "645c678a-4923-4885-a2a0-1352d0a8694c",
   "metadata": {},
   "outputs": [
    {
     "data": {
      "text/plain": [
       "tensor(0.3785)"
      ]
     },
     "execution_count": 78,
     "metadata": {},
     "output_type": "execute_result"
    }
   ],
   "source": [
    "crossC[296, 296]"
   ]
  },
  {
   "cell_type": "code",
   "execution_count": 49,
   "id": "f82951d0-8948-4f9c-ae5d-c5fb853bc4bb",
   "metadata": {},
   "outputs": [
    {
     "name": "stdout",
     "output_type": "stream",
     "text": [
      "Epoch 1, Loss: -0.370018, cost_entropy: 13.818481, s_entropy: 13.818087, Hits@1: 0.0000, Hits@5: 0.0025, Hits@10: 0.0138, Hits@30: 0.1875, Hits@50: 0.4437, Hits@100: 0.8525, MRR: 0.0231\n"
     ]
    }
   ],
   "source": [
    "model.train()\n",
    "start = time.time()\n",
    "optimizer.zero_grad()\n",
    "out1, out2 = model(G1_tg, G2_tg)\n",
    "loss = criterion(out1=out1, out2=out2)\n",
    "loss.backward()\n",
    "optimizer.step()\n",
    "print(f'Epoch {epoch + 1}, Loss: {loss.item():.6f}', end=', ')\n",
    "\n",
    "# testing\n",
    "with torch.no_grad():\n",
    "    model.eval()\n",
    "    inter_c = torch.exp(-(out1 @ out2.T))\n",
    "    intra_c1, intra_c2 = criterion.intra_c1, criterion.intra_c2\n",
    "    similarity = sinkhorn(inter_c, intra_c1, intra_c2,\n",
    "                          lambda_w=args.lambda_w,\n",
    "                          lambda_e=args.lambda_edge,\n",
    "                          lambda_t=args.lambda_total,\n",
    "                          in_iter=args.in_iter,\n",
    "                          out_iter=args.out_iter,\n",
    "                          device=device)\n",
    "    hits, mrr = compute_metrics(-similarity, test_pairs)\n",
    "    cost = inter_c / inter_c.sum()\n",
    "    cost_entropy = torch.sum(-cost * torch.log(cost))\n",
    "    s_entropy = torch.sum(-similarity * torch.log(similarity))\n",
    "    end = time.time()\n",
    "    print(f'cost_entropy: {cost_entropy:.6f}, s_entropy: {s_entropy:.6f}, '\n",
    "          f'{\", \".join([f\"Hits@{key}: {value:.4f}\" for (key, value) in hits.items()])}, MRR: {mrr:.4f}')\n",
    "    epoch += 1"
   ]
  },
  {
   "cell_type": "code",
   "execution_count": 54,
   "id": "82e4bc73-bc36-44f2-9f1d-badd633ba0d9",
   "metadata": {},
   "outputs": [
    {
     "name": "stdout",
     "output_type": "stream",
     "text": [
      "0.3679003101137131\n",
      "0.3678794411714423\n",
      "tensor([[  0, 631, 860, 102, 890],\n",
      "        [  1, 215, 742,  60, 720],\n",
      "        [317, 267, 568, 141, 818],\n",
      "        [581,  40, 107,  89,  14],\n",
      "        [  4, 606, 215, 925,   1],\n",
      "        [852, 203, 439, 283, 992],\n",
      "        [203, 852, 439, 992, 283],\n",
      "        [603, 758, 902,  47, 761],\n",
      "        [  8, 980, 852, 760, 150],\n",
      "        [876, 845,  83, 416, 574]])\n",
      "(tensor([1]),) (tensor([803]),)\n",
      "(tensor([910]),) (tensor([842]),)\n",
      "(tensor([983]),) (tensor([916]),)\n"
     ]
    }
   ],
   "source": [
    "with torch.no_grad():\n",
    "    print(f'{inter_c[0, 0]:.16f}')\n",
    "    print(f'{1/torch.exp(torch.tensor(1)):.16f}')\n",
    "    rank_c_row = torch.argsort(inter_c, dim=1)\n",
    "    rank_c_col = torch.argsort(inter_c, dim=0)\n",
    "    rank = torch.argsort(-similarity, dim=1)\n",
    "    print(rank[:10, :5])\n",
    "    print(torch.where(rank_c_row[0, :] == rank[0, 1]), torch.where(rank_c_row[0, :] == rank[0, 2]))\n",
    "    print(torch.where(rank_c_row[2, :] == rank[2, 0]), torch.where(rank_c_row[2, :] == rank[2, 1]))\n",
    "    print(torch.where(rank_c_row[3, :] == rank[3, 0]), torch.where(rank_c_row[3, :] == rank[3, 1]))"
   ]
  },
  {
   "cell_type": "code",
   "execution_count": 3,
   "id": "91eb17ed-75f3-4a8b-b3ba-b94076ab02cf",
   "metadata": {},
   "outputs": [
    {
     "name": "stdout",
     "output_type": "stream",
     "text": [
      "Dist: 0.00000000000000000000\n"
     ]
    },
    {
     "data": {
      "image/png": "[encoded data removed]",
      "text/plain": [
       "<Figure size 640x480 with 1 Axes>"
      ]
     },
     "metadata": {},
     "output_type": "display_data"
    }
   ],
   "source": [
    "# Test Sinkhorn\n",
    "nx, ny = 50, 50\n",
    "crossC = torch.ones(nx, ny).to(torch.float64)\n",
    "crossC[torch.randperm(nx), torch.randperm(ny)] = 0\n",
    "intraC1 = torch.rand(nx, ny).to(torch.float64)\n",
    "intraC2 = torch.rand(nx, ny).to(torch.float64)\n",
    "S = sinkhorn(crossC, intraC1, intraC2, lambda_w=1, lambda_e=0, lambda_t=1e-2, in_iter=10, out_iter=100)\n",
    "plt.imshow(S, cmap='gray')\n",
    "print('Dist: %.20f' % torch.sum(crossC * S)) "
   ]
  },
  {
   "cell_type": "code",
   "execution_count": 101,
   "id": "0039196e-4290-40de-8be2-256952370271",
   "metadata": {},
   "outputs": [
    {
     "name": "stdout",
     "output_type": "stream",
     "text": [
      "tensor(0.0447, dtype=torch.float64)\n",
      "tensor([[0.0447]], dtype=torch.float64)\n"
     ]
    }
   ],
   "source": [
    "nx, ny = 50, 30\n",
    "eps = 1e-5\n",
    "a = torch.ones(nx).to(torch.float64) / nx\n",
    "b = torch.ones(ny).to(torch.float64) / ny\n",
    "cost = torch.rand(nx, ny).to(torch.float64)\n",
    "f = torch.ones(nx).to(torch.float64) / nx\n",
    "g = torch.ones(ny).to(torch.float64) / ny\n",
    "\n",
    "def soft_min_row(z_in, eps):\n",
    "    hard_min = torch.min(z_in, dim=1, keepdim=True)[0]\n",
    "    soft_min = hard_min - eps * torch.log(torch.sum(torch.exp(-(z_in - hard_min) / eps), dim=1, keepdim=True))\n",
    "    return soft_min.squeeze(-1)\n",
    "\n",
    "def soft_min_col(z_in, eps):\n",
    "    hard_min = torch.min(z_in, dim=0, keepdim=True)[0]\n",
    "    soft_min = hard_min - eps * torch.log(torch.sum(torch.exp(-(z_in - hard_min) / eps), dim=0, keepdim=True))\n",
    "    return soft_min.squeeze(0)\n",
    "\n",
    "for i in range(100000):\n",
    "    f = soft_min_row(cost - g.view(1, -1), eps) + eps * torch.log(a)\n",
    "    g = soft_min_col(cost - f.view(-1, 1), eps) + eps * torch.log(b)\n",
    "    \n",
    "S = torch.exp((f.view(-1, 1) + g.view(-1, 1).T - cost) / eps)\n",
    "S += 1e-20\n",
    "print(torch.sum(cost * S) + eps * torch.sum(S * (torch.log(S) - 1)) + eps)\n",
    "print(eps * (a.view(1, -1) @ (f/eps).view(-1, 1) + b.view(1, -1) @ (g/eps).view(-1, 1)))"
   ]
  },
  {
   "cell_type": "code",
   "execution_count": 102,
   "id": "5098beaa-b365-4da6-9590-d118c2f6892f",
   "metadata": {},
   "outputs": [
    {
     "name": "stdout",
     "output_type": "stream",
     "text": [
      "tensor([0.0200, 0.0200, 0.0200, 0.0200, 0.0200, 0.0200, 0.0200, 0.0200, 0.0200,\n",
      "        0.0200, 0.0200, 0.0200, 0.0200, 0.0200, 0.0200, 0.0200, 0.0200, 0.0200,\n",
      "        0.0200, 0.0200, 0.0200, 0.0200, 0.0200, 0.0200, 0.0200, 0.0200, 0.0200,\n",
      "        0.0200, 0.0200, 0.0200, 0.0200, 0.0200, 0.0200, 0.0200, 0.0200, 0.0200,\n",
      "        0.0200, 0.0200, 0.0200, 0.0200, 0.0200, 0.0200, 0.0200, 0.0200, 0.0200,\n",
      "        0.0200, 0.0200, 0.0200, 0.0200, 0.0200], dtype=torch.float64)\n"
     ]
    }
   ],
   "source": [
    "print(S.sum(1))"
   ]
  },
  {
   "cell_type": "code",
   "execution_count": 94,
   "id": "6fd93ae6-aef6-4d30-8cb9-2d5a8a679ae8",
   "metadata": {},
   "outputs": [],
   "source": [
    "n = 5\n",
    "for i in range(100000):\n",
    "    av = torch.rand(n)\n",
    "    bv = torch.rand(n)\n",
    "    av /= -torch.linalg.norm(av, ord=2)\n",
    "    bv /= -torch.linalg.norm(bv, ord=2)\n",
    "    s = torch.sum(av * bv)\n",
    "    if s < -1 or s > 1:\n",
    "        print('error')"
   ]
  },
  {
   "cell_type": "code",
   "execution_count": 117,
   "id": "6eaaba3a-daa6-4961-9cb9-156758cb8e00",
   "metadata": {},
   "outputs": [],
   "source": [
    "n1, n2 = 1000, 1200\n",
    "a = torch.rand(n1).to(torch.float64)\n",
    "a = a / a.sum()\n",
    "b = torch.rand(n2).to(torch.float64)\n",
    "b = b / b.sum()\n",
    "C = torch.rand(n1, n2).to(torch.float64)\n",
    "eps = 1e-4\n",
    "global_delta = 1e-6"
   ]
  },
  {
   "cell_type": "code",
   "execution_count": null,
   "id": "77bfb93d-41fa-40c6-914d-46c53a058745",
   "metadata": {},
   "outputs": [],
   "source": [
    "# Sinkhorn\n",
    "u = torch.ones(n1).to(torch.float64) / n1\n",
    "v = torch.ones(n2).to(torch.float64) / n2\n",
    "K = torch.exp(-C / eps)\n",
    "\n",
    "start_time = time.time()\n",
    "n_iter = 0\n",
    "while True:\n",
    "    u = a / (K @ v)\n",
    "    v = b / (K.T @ u)\n",
    "    S = torch.diag(u) @ K @ torch.diag(v)\n",
    "    err1 = torch.sum(torch.abs(torch.sum(S, dim=1) - a))\n",
    "    err2 = torch.sum(torch.abs(torch.sum(S, dim=0) - b))\n",
    "    err = err1 + err2\n",
    "    if err < global_delta:\n",
    "        break\n",
    "    if n_iter % 100 == 99:\n",
    "        print(f'iter: {n_iter + 1}, err: {err:.15f}')\n",
    "    n_iter += 1\n",
    "end_time = time.time()\n",
    "S_ground = torch.clone(S)\n",
    "print(f'Time: {end_time - start_time:.4f}s')"
   ]
  },
  {
   "cell_type": "code",
   "execution_count": null,
   "id": "c0496a44-7c9a-4364-9f4d-2fa5dff18aac",
   "metadata": {},
   "outputs": [],
   "source": [
    "# LOT\n",
    "r = 500\n",
    "alpha = 1e-5\n",
    "gamma = 100\n",
    "delta = 1e-10\n",
    "\n",
    "Q = torch.ones(n1, r).to(torch.float64) / (n1 * r)\n",
    "R = torch.ones(n2, r).to(torch.float64) / (n2 * r)\n",
    "g = torch.ones(r).to(torch.float64) / r\n",
    "\n",
    "\n",
    "def LR_Dykstra(Ks, a, b, alpha, max_iter=1000, delta=1e-9, lam=0):\n",
    "    K1, K2, K3 = Ks\n",
    "    Q = K1\n",
    "    R = K2\n",
    "    g_old = K3\n",
    "\n",
    "    n1, n2 = K1.shape[0], K2.shape[0]\n",
    "    r = K3.shape[0]\n",
    "    \n",
    "    v1_old = torch.ones(r).to(torch.float64)\n",
    "    v2_old = torch.ones(r).to(torch.float64)\n",
    "    u1 = torch.ones(n1).to(torch.float64)\n",
    "    u2 = torch.ones(n2).to(torch.float64)\n",
    "\n",
    "    q_gi = torch.ones(r).to(torch.float64)\n",
    "    q_gp = torch.ones(r).to(torch.float64)\n",
    "    q_Q = torch.ones(r).to(torch.float64)\n",
    "    q_R = torch.ones(r).to(torch.float64)\n",
    "\n",
    "    err = 1\n",
    "    n_iter = 0\n",
    "    while n_iter < max_iter:\n",
    "        u1_prev, v1_prev = u1, v1_old\n",
    "        u2_prev, v2_prev = u2, v2_old\n",
    "        g_prev = g_old\n",
    "        if err > delta:\n",
    "            n_iter += 1\n",
    "\n",
    "            # First Projection\n",
    "            u1 = a / (K1 @ v1_old + lam)\n",
    "            u2 = b / (K2 @ v2_old + lam)\n",
    "            g = torch.max(torch.tensor(alpha), g_old * q_gi)\n",
    "            q_gi = (g_old * q_gi) / (g + lam)\n",
    "            g_old = torch.clone(g)\n",
    "\n",
    "            # Second Projection\n",
    "            v1_trans = K1.T @ u1\n",
    "            v2_trans = K2.T @ u2\n",
    "            g = (g_old * q_gp * v1_old * q_Q * v1_trans * v2_old * q_R * v2_trans) ** (1 / 3)\n",
    "            v1 = g / (v1_trans + lam)\n",
    "            v2 = g / (v2_trans + lam)\n",
    "            q_gp = (g_old * q_gp) / (g + lam)\n",
    "            q_Q = (q_Q * v1_old) / (v1 + lam)\n",
    "            q_R = (q_R * v2_old) / (v2 + lam)\n",
    "\n",
    "            v1_old = torch.clone(v1)\n",
    "            v2_old = torch.clone(v2)\n",
    "            g_old = torch.clone(g)\n",
    "\n",
    "            # Update the error\n",
    "            u1_trans = K1 @ v1\n",
    "            err_1 = torch.sum(torch.abs(u1 * u1_trans - a))\n",
    "            u2_trans = K2 @ v2\n",
    "            err_2 = torch.sum(torch.abs(u2 * u2_trans - b))\n",
    "            err = err_1 + err_2\n",
    "\n",
    "            if (\n",
    "                torch.any(torch.isnan(u1)) or\n",
    "                torch.any(torch.isnan(u2)) or\n",
    "                torch.any(torch.isnan(v1)) or\n",
    "                torch.any(torch.isnan(v2)) or\n",
    "                torch.any(torch.isinf(u1)) or\n",
    "                torch.any(torch.isinf(u2)) or\n",
    "                torch.any(torch.isinf(v1)) or\n",
    "                torch.any(torch.isinf(v2))\n",
    "            ):\n",
    "                print(f\"Warning: numerical error in Dyskra at iteration {n_iter}\")\n",
    "                u1, v1 = u1_prev, v1_prev\n",
    "                u2, v2 = u2_prev, v2_prev\n",
    "                g = g_prev\n",
    "                break\n",
    "\n",
    "        else:\n",
    "            Q = u1.view(-1, 1) * K1 * v1.view(1, -1)\n",
    "            R = u2.view(-1, 1) * K2 * v2.view(1, -1)\n",
    "            return Q, R, g, n_iter\n",
    "\n",
    "    Q = u1.view(-1, 1) * K1 * v1.view(1, -1)\n",
    "    R = u2.view(-1, 1) * K2 * v2.view(1, -1)\n",
    "    return Q, R, g, n_iter\n",
    "\n",
    "epochs = 0\n",
    "start_time = time.time()\n",
    "while True:\n",
    "    xi1 = torch.exp(-gamma * C @ R @ torch.diag(1/g) - (gamma * eps - 1) * torch.log(Q))\n",
    "    xi2 = torch.exp(-gamma * C.T @ Q @ torch.diag(1/g) - (gamma * eps - 1) * torch.log(R))\n",
    "    omega = torch.diagonal(Q.T @ C @ R)\n",
    "    xi3 = torch.exp(gamma * omega / (g ** 2) - (gamma * eps - 1) * torch.log(g))\n",
    "    Q, R, g, n_iter = LR_Dykstra((xi1, xi2, xi3), a, b, alpha, delta=delta)\n",
    "    S = Q @ torch.diag(1 / g) @ R.T\n",
    "    err = torch.sum(torch.abs(S - S_ground))\n",
    "    if err < global_delta:\n",
    "        break\n",
    "    if epochs % 100 == 99:\n",
    "        print(f'iter: {epochs + 1}, err: {err:.15f}')\n",
    "    epochs += 1\n",
    "    \n",
    "end_time = time.time()\n",
    "print(f'Time: {end_time - start_time:.4f}s')\n",
    "print(S.sum())"
   ]
  }
 ],
 "metadata": {
  "kernelspec": {
   "display_name": "Python 3 (ipykernel)",
   "language": "python",
   "name": "python3"
  },
  "language_info": {
   "codemirror_mode": {
    "name": "ipython",
    "version": 3
   },
   "file_extension": ".py",
   "mimetype": "text/x-python",
   "name": "python",
   "nbconvert_exporter": "python",
   "pygments_lexer": "ipython3",
   "version": "3.9.6"
  }
 },
 "nbformat": 4,
 "nbformat_minor": 5
}
